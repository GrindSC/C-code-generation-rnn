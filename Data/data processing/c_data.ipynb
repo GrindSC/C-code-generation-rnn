{
  "cells": [
    {
      "cell_type": "code",
      "execution_count": null,
      "metadata": {},
      "outputs": [],
      "source": [
        "!pip install -q polyglot\n",
        "!pip3 install -q pyicu\n",
        "!pip3 install -q pycld2\n",
        "!pip3 install -q morfessor\n",
        "!pip install deep-translator\n",
        "!wget https://dax-cdn.cdn.appdomain.cloud/dax-project-codenet/1.0.0/Project_CodeNet_metadata.tar.gz\n",
        "!mkdir /content/ds"
      ]
    },
    {
      "cell_type": "code",
      "execution_count": null,
      "metadata": {},
      "outputs": [],
      "source": [
        "from polyglot.detect import Detector\n",
        "from deep_translator import GoogleTranslator\n",
        "\n",
        "\n",
        "from IPython.display import HTML, display\n",
        "from google.colab import output\n",
        "import codecs\n",
        "import glob\n",
        "import random\n",
        "import tarfile\n",
        "import requests\n",
        "import os\n",
        "import shutil\n",
        "\n",
        "from bs4 import BeautifulSoup\n",
        "import re\n",
        "\n",
        "import pandas as pd\n",
        "import numpy as np\n",
        "import pickle \n",
        "\n",
        "shutil.unpack_archive('/content/Project_CodeNet_metadata.tar.gz', '/content/ds')"
      ]
    },
    {
      "cell_type": "code",
      "execution_count": null,
      "metadata": {
        "colab": {
          "base_uri": "https://localhost:8080/",
          "height": 35
        },
        "id": "Ycr_2i8pZhAv",
        "outputId": "76ac0f10-d076-4a1b-c180-23cae62ec76b"
      },
      "outputs": [
        {
          "data": {
            "application/vnd.google.colaboratory.intrinsic+json": {
              "type": "string"
            },
            "text/plain": [
              "'en'"
            ]
          },
          "execution_count": 15,
          "metadata": {},
          "output_type": "execute_result"
        }
      ],
      "source": [
        "Detector(mixed_text).languages[0].code"
      ]
    },
    {
      "cell_type": "code",
      "execution_count": null,
      "metadata": {
        "id": "EXl0GblbbJVi"
      },
      "outputs": [],
      "source": [
        "def findTask(text):\n",
        "  start=text.find('\\n\\n')\n",
        "  end=text.find('Input')\n",
        "  filter=text[start+2:end-2].replace('\\n\\n', ' ').replace('\\n', ' ').replace(' Problem Statement', '')\n",
        "  if filter.find('Constraints')!=-1:\n",
        "    filter=filter[:filter.find('Constraints')]\n",
        "  return \" \".join(re.sub(r'[^A-Za-z0-9 >+>=+<=+=+-]+', '', filter).split())"
      ]
    },
    {
      "cell_type": "code",
      "execution_count": null,
      "metadata": {
        "id": "Wj-2Aa0Lcg6M"
      },
      "outputs": [],
      "source": [
        "def checkLanguage(text):\n",
        "  lang=Detector(text).languages[0].code\n",
        "  if lang=='en':\n",
        "    return findTask(text)\n",
        "  else:\n",
        "    translated = GoogleTranslator(source='auto', target='en').translate(text)\n",
        "    return findTask(translated)"
      ]
    },
    {
      "cell_type": "code",
      "execution_count": null,
      "metadata": {
        "colab": {
          "base_uri": "https://localhost:8080/",
          "height": 87
        },
        "id": "u6KOZ3hsfm-L",
        "outputId": "468368c2-38e2-45b7-e6a8-9e332ccee977"
      },
      "outputs": [
        {
          "data": {
            "application/vnd.google.colaboratory.intrinsic+json": {
              "type": "string"
            },
            "text/plain": [
              "'GCD and LCM\\n\\nWrite a program which computes the greatest common divisor (GCD) and the least common multiple (LCM) of given a and b. \\n\\nInput\\n\\nInput consists of several data sets. Each data set contains a and b separated by a single space in a line. The input terminates with EOF.\\n\\nConstraints\\n\\n 0 < a, b ≤ 2,000,000,000\\n LCM(a, b) ≤ 2,000,000,000\\n The number of data sets ≤ 50\\n\\nOutput\\n\\nFor each data set, print GCD and LCM separated by a single space in a line.\\n\\nSample Input\\n\\n8 6\\n50000000 30000000\\n\\nOutput for the Sample Input\\n\\n2 24\\n10000000 150000000\\n\\n'"
            ]
          },
          "execution_count": 46,
          "metadata": {},
          "output_type": "execute_result"
        }
      ],
      "source": [
        "f=codecs.open(\"/content/ds/Project_CodeNet/problem_descriptions/p00005.html\", 'r')\n",
        "BeautifulSoup(f.read(), \"lxml\").text"
      ]
    },
    {
      "cell_type": "code",
      "execution_count": null,
      "metadata": {},
      "outputs": [],
      "source": [
        "directory_path = '/content/ds/Project_CodeNet/problem_descriptions'\n",
        "directory_files = os.listdir(directory_path)\n",
        "\n",
        "problemNames=[]\n",
        "for file in directory_files:\n",
        "    try:\n",
        "      f=codecs.open(os.path.join(directory_path, file), 'r')\n",
        "      problemNames.append(checkLanguage(BeautifulSoup(f.read(), \"lxml\").text))\n",
        "    except:\n",
        "      problemNames.append('')"
      ]
    },
    {
      "cell_type": "code",
      "execution_count": null,
      "metadata": {
        "id": "XDDWpCm31TL-"
      },
      "outputs": [],
      "source": [
        "with open('/content/drive/MyDrive/CodeNetProblems.txt', 'w') as f:\n",
        "    for line in problemNames:\n",
        "        f.write(f\"{line}\\n\")"
      ]
    },
    {
      "cell_type": "code",
      "execution_count": null,
      "metadata": {
        "id": "kJcuYbikPjt9"
      },
      "outputs": [],
      "source": [
        "problem_dict = dict(zip(directory_files, problemNames))\n",
        "\n",
        "with open('/content/drive/MyDrive/problem_dict.pkl', 'wb') as f:\n",
        "    pickle.dump(problem_dict, f)"
      ]
    },
    {
      "cell_type": "code",
      "execution_count": null,
      "metadata": {
        "colab": {
          "base_uri": "https://localhost:8080/"
        },
        "id": "1Hxo-vweet8Z",
        "outputId": "c78e8f00-9d04-4dfc-b66e-f05f1f79e763"
      },
      "outputs": [
        {
          "data": {
            "text/plain": [
              "array('A railroad running from west to east in Atcoder Kingdom is now complete There are N stations on the railroad numbered 1 through N from west to east Tomorrow the opening ceremony of the railroad will take place On this railroad for each integer i such that 1iN-1 there will be trains that run from Station i to Station i+1 in Ci seconds No other trains will be operated The first train from Station i to Station i+1 will depart Station i Si seconds after the ceremony begins Thereafter there will be a train that departs Station i every Fi seconds Here it is guaranteed that Fi divides Si That is for each Time t satisfying Sit and tFi=0 there will be a train that departs Station i t seconds after the ceremony begins and arrives at Station i+1 t+Ci seconds after the ceremony begins where AB denotes A modulo B and there will be no other trains For each i find the earliest possible time we can reach Station N if we are at Station i when the ceremony begins ignoring the time needed to change trains',\n",
              "      dtype='<U1001')"
            ]
          },
          "execution_count": 120,
          "metadata": {},
          "output_type": "execute_result"
        }
      ],
      "source": [
        "np.array(problemNames[0])"
      ]
    },
    {
      "cell_type": "code",
      "execution_count": null,
      "metadata": {
        "id": "HCKYcOUk2TDX"
      },
      "outputs": [],
      "source": [
        "file_name = \"Project_CodeNet_MLM.tar.gz\"\n",
        "data_url = f\"https://dax-cdn.cdn.appdomain.cloud/dax-project-codenet/1.0.0/{file_name}\"\n",
        "\n",
        "if os.path.exists(file_name):\n",
        "    os.remove(file_name) \n",
        "with open(file_name, \"wb\") as f:\n",
        "    f.write(requests.get(data_url).content)\n",
        "    \n",
        "if os.path.exists(\"tokens\"):\n",
        "    shutil.rmtree(\"tokens\")    \n",
        "with tarfile.open(file_name) as f:\n",
        "    f.extractall()"
      ]
    },
    {
      "cell_type": "code",
      "execution_count": null,
      "metadata": {
        "id": "hdpOUs-k29hR"
      },
      "outputs": [],
      "source": [
        "directory_path = '/content/ds/Project_CodeNet/metadata'\n",
        "directory_files = os.listdir(directory_path)\n",
        "directory_files.remove('problem_list.csv')\n",
        "\n",
        "df = pd.DataFrame()\n",
        "for file in directory_files:\n",
        "    df_file = pd.read_csv(os.path.join(directory_path, file), encoding = 'ISO-8859-1',low_memory=False)\n",
        "    df = pd.concat([df, df_file])"
      ]
    },
    {
      "cell_type": "code",
      "execution_count": null,
      "metadata": {
        "id": "Omf0K2dBKE4w"
      },
      "outputs": [],
      "source": [
        "df[(df['status']=='Accepted') & ((df['original_language']=='C') | (df['language']=='C'))].to_csv('/content/drive/MyDrive/CodeNetSubmissions.csv', sep='\\t', encoding='utf-8')\n",
        "submissions=df[(df['status']=='Accepted') & ((df['original_language']=='C') | (df['language']=='C'))]\n",
        "sub_dict=pd.Series(submissions.problem_id.values,index=submissions.submission_id).to_dict()\n",
        "with open('/content/drive/MyDrive/sub_dict.pkl', 'wb') as f:\n",
        "    pickle.dump(sub_dict, f)"
      ]
    },
    {
      "cell_type": "code",
      "execution_count": null,
      "metadata": {
        "colab": {
          "base_uri": "https://localhost:8080/"
        },
        "id": "Fq1dAHmmRVY-",
        "outputId": "94fd0e31-d909-4420-aa08-6d55301d7740"
      },
      "outputs": [
        {
          "name": "stdout",
          "output_type": "stream",
          "text": [
            "                                                  nl  \\\n",
            "0  Write a program that prints the surface area S...   \n",
            "1  I did an exit poll on the amount of money spen...   \n",
            "2  Write a program that prints the surface area S...   \n",
            "3  Given are integers abc and d If x and y are in...   \n",
            "4  Given are three integers A1 A2 and A3 If A1+A2...   \n",
            "\n",
            "                                                code  \n",
            "0  # include < id . id > # include < id . id > in...  \n",
            "1  # include < id . id > int main ( void ) { unsi...  \n",
            "2  # include < id . id > # include < id . id > in...  \n",
            "3  # include < id . id > int main ( ) { long long...  \n",
            "4  # include < id . id > int main ( ) { int id , ...  \n"
          ]
        }
      ],
      "source": [
        "def get_text_list_from_files(files):\n",
        "    text_list = []\n",
        "    for name in files:\n",
        "        with open(name) as f:\n",
        "            for line in f:\n",
        "                text_list.append(line)\n",
        "    return text_list\n",
        "\n",
        "def get_data_from_text_files(folder_name):\n",
        "    files = glob.glob(folder_name + '/*.toks')\n",
        "    code = get_text_list_from_files(files)\n",
        "    temp=[sub_dict[x[len(f'{folder_name}/'):-len('.toks')]] for x in glob.glob(folder_name + '/*.toks')]\n",
        "    nl_desc=[]\n",
        "    for problem in temp:\n",
        "      try:\n",
        "        nl_desc.append(problem_dict[problem+'.html'])\n",
        "      except:\n",
        "        nl_desc.append('')\n",
        "    df = pd.DataFrame({'nl': nl_desc, 'code': code})\n",
        "    df = df.sample(len(df)).reset_index(drop=True)\n",
        "    return df\n",
        "\n",
        "train_data = get_data_from_text_files('tokens/train')\n",
        "train_data"
      ]
    },
    {
      "cell_type": "code",
      "execution_count": null,
      "metadata": {
        "colab": {
          "base_uri": "https://localhost:8080/",
          "height": 53
        },
        "id": "JtyPFFu8Wox4",
        "outputId": "ea7e4276-a2dd-4edf-a9a6-d7b2a2b469d1"
      },
      "outputs": [
        {
          "data": {
            "application/vnd.google.colaboratory.intrinsic+json": {
              "type": "string"
            },
            "text/plain": [
              "'I did an exit poll on the amount of money spent on purchases at a department store Create a program that takes data on shopping prices as input calculates the average shopping price per person and outputs the data The number of people surveyed shall be 100000 or less and the purchase amount per person shall not exceed 1 million yen'"
            ]
          },
          "execution_count": 215,
          "metadata": {},
          "output_type": "execute_result"
        }
      ],
      "source": [
        "train_data.nl[1]"
      ]
    },
    {
      "cell_type": "code",
      "execution_count": null,
      "metadata": {
        "colab": {
          "base_uri": "https://localhost:8080/",
          "height": 53
        },
        "id": "eszvUTmVWroF",
        "outputId": "813c1a2f-6561-43c3-ad50-d9b98a6a2642"
      },
      "outputs": [
        {
          "data": {
            "application/vnd.google.colaboratory.intrinsic+json": {
              "type": "string"
            },
            "text/plain": [
              "'# include < id . id > int main ( void ) { unsigned long long int id , id , id ; unsigned long long int id = 0 ; double id ; scanf ( string , operator id ) ; for ( id = 0 ; id < id ; id operator ) { scanf ( string , operator id ) ; id operator id ; } id operator id ; printf ( string , id ) ; return 0 ; } '"
            ]
          },
          "execution_count": 214,
          "metadata": {},
          "output_type": "execute_result"
        }
      ],
      "source": [
        "train_data.code[1]"
      ]
    },
    {
      "cell_type": "code",
      "execution_count": null,
      "metadata": {
        "id": "rUFS2C7fYDjE"
      },
      "outputs": [],
      "source": [
        "train_data[train_data.nl!=''].to_csv('/content/drive/MyDrive/CodeNetTrain.csv', sep='\\t', encoding='utf-8')"
      ]
    },
    {
      "cell_type": "code",
      "execution_count": null,
      "metadata": {
        "id": "HVoU0EPYYziN"
      },
      "outputs": [],
      "source": [
        "test_data = get_data_from_text_files('tokens/test')\n",
        "test_data"
      ]
    },
    {
      "cell_type": "code",
      "execution_count": null,
      "metadata": {},
      "outputs": [],
      "source": [
        "train_data[train_data.nl!=''].to_csv('/content/drive/MyDrive/CodeNetTrain.csv', sep='\\t', encoding='utf-8')"
      ]
    },
    {
      "cell_type": "code",
      "execution_count": null,
      "metadata": {
        "colab": {
          "base_uri": "https://localhost:8080/",
          "height": 424
        },
        "id": "LO0dSHDpZE7s",
        "outputId": "dfab1edb-752e-41cd-ae37-cf9a521ab6c5"
      },
      "outputs": [
        {
          "data": {
            "text/html": [
              "\n",
              "  <div id=\"df-89f6ad22-c130-4e52-8043-56a0f1a086d9\">\n",
              "    <div class=\"colab-df-container\">\n",
              "      <div>\n",
              "<style scoped>\n",
              "    .dataframe tbody tr th:only-of-type {\n",
              "        vertical-align: middle;\n",
              "    }\n",
              "\n",
              "    .dataframe tbody tr th {\n",
              "        vertical-align: top;\n",
              "    }\n",
              "\n",
              "    .dataframe thead th {\n",
              "        text-align: right;\n",
              "    }\n",
              "</style>\n",
              "<table border=\"1\" class=\"dataframe\">\n",
              "  <thead>\n",
              "    <tr style=\"text-align: right;\">\n",
              "      <th></th>\n",
              "      <th>nl</th>\n",
              "      <th>code</th>\n",
              "    </tr>\n",
              "  </thead>\n",
              "  <tbody>\n",
              "    <tr>\n",
              "      <th>0</th>\n",
              "      <td>An X-layered kagami mochi X 1 is a pile of X r...</td>\n",
              "      <td># include &lt; id . id &gt; int main ( void ) { int ...</td>\n",
              "    </tr>\n",
              "    <tr>\n",
              "      <th>1</th>\n",
              "      <td>We have a deck consisting of N cards Each card...</td>\n",
              "      <td># include &lt; id . id &gt; # include &lt; id . id &gt; in...</td>\n",
              "    </tr>\n",
              "    <tr>\n",
              "      <th>2</th>\n",
              "      <td>You are given a string S consisting of lowerca...</td>\n",
              "      <td># include &lt; id . id &gt; # include &lt; string . id ...</td>\n",
              "    </tr>\n",
              "    <tr>\n",
              "      <th>3</th>\n",
              "      <td>You are parking at a parking lot You can choos...</td>\n",
              "      <td># include &lt; id . id &gt; int main ( ) { int id , ...</td>\n",
              "    </tr>\n",
              "    <tr>\n",
              "      <th>4</th>\n",
              "      <td>You have A 500-yen coins B 100-yen coins and C...</td>\n",
              "      <td># include &lt; id . id &gt; # include &lt; string . id ...</td>\n",
              "    </tr>\n",
              "    <tr>\n",
              "      <th>...</th>\n",
              "      <td>...</td>\n",
              "      <td>...</td>\n",
              "    </tr>\n",
              "    <tr>\n",
              "      <th>4995</th>\n",
              "      <td>We have a 33 square grid where each square con...</td>\n",
              "      <td># include &lt; id . id &gt; int main ( void ) { char...</td>\n",
              "    </tr>\n",
              "    <tr>\n",
              "      <th>4996</th>\n",
              "      <td>You went shopping to buy cakes and donuts with...</td>\n",
              "      <td># include &lt; id . id &gt; int main ( ) { int id ; ...</td>\n",
              "    </tr>\n",
              "    <tr>\n",
              "      <th>4997</th>\n",
              "      <td>We call a 4-digit integer with three or more c...</td>\n",
              "      <td># include &lt; id . id &gt; char id [ number ] ; int...</td>\n",
              "    </tr>\n",
              "    <tr>\n",
              "      <th>4998</th>\n",
              "      <td>Square1001 has seen an electric bulletin board...</td>\n",
              "      <td># include &lt; id . id &gt; int main ( ) { int id , ...</td>\n",
              "    </tr>\n",
              "    <tr>\n",
              "      <th>4999</th>\n",
              "      <td>We have a grid with N rows and M columns of sq...</td>\n",
              "      <td># include &lt; id . id &gt; # include &lt; id . id &gt; # ...</td>\n",
              "    </tr>\n",
              "  </tbody>\n",
              "</table>\n",
              "<p>5000 rows × 2 columns</p>\n",
              "</div>\n",
              "      <button class=\"colab-df-convert\" onclick=\"convertToInteractive('df-89f6ad22-c130-4e52-8043-56a0f1a086d9')\"\n",
              "              title=\"Convert this dataframe to an interactive table.\"\n",
              "              style=\"display:none;\">\n",
              "        \n",
              "  <svg xmlns=\"http://www.w3.org/2000/svg\" height=\"24px\"viewBox=\"0 0 24 24\"\n",
              "       width=\"24px\">\n",
              "    <path d=\"M0 0h24v24H0V0z\" fill=\"none\"/>\n",
              "    <path d=\"M18.56 5.44l.94 2.06.94-2.06 2.06-.94-2.06-.94-.94-2.06-.94 2.06-2.06.94zm-11 1L8.5 8.5l.94-2.06 2.06-.94-2.06-.94L8.5 2.5l-.94 2.06-2.06.94zm10 10l.94 2.06.94-2.06 2.06-.94-2.06-.94-.94-2.06-.94 2.06-2.06.94z\"/><path d=\"M17.41 7.96l-1.37-1.37c-.4-.4-.92-.59-1.43-.59-.52 0-1.04.2-1.43.59L10.3 9.45l-7.72 7.72c-.78.78-.78 2.05 0 2.83L4 21.41c.39.39.9.59 1.41.59.51 0 1.02-.2 1.41-.59l7.78-7.78 2.81-2.81c.8-.78.8-2.07 0-2.86zM5.41 20L4 18.59l7.72-7.72 1.47 1.35L5.41 20z\"/>\n",
              "  </svg>\n",
              "      </button>\n",
              "      \n",
              "  <style>\n",
              "    .colab-df-container {\n",
              "      display:flex;\n",
              "      flex-wrap:wrap;\n",
              "      gap: 12px;\n",
              "    }\n",
              "\n",
              "    .colab-df-convert {\n",
              "      background-color: #E8F0FE;\n",
              "      border: none;\n",
              "      border-radius: 50%;\n",
              "      cursor: pointer;\n",
              "      display: none;\n",
              "      fill: #1967D2;\n",
              "      height: 32px;\n",
              "      padding: 0 0 0 0;\n",
              "      width: 32px;\n",
              "    }\n",
              "\n",
              "    .colab-df-convert:hover {\n",
              "      background-color: #E2EBFA;\n",
              "      box-shadow: 0px 1px 2px rgba(60, 64, 67, 0.3), 0px 1px 3px 1px rgba(60, 64, 67, 0.15);\n",
              "      fill: #174EA6;\n",
              "    }\n",
              "\n",
              "    [theme=dark] .colab-df-convert {\n",
              "      background-color: #3B4455;\n",
              "      fill: #D2E3FC;\n",
              "    }\n",
              "\n",
              "    [theme=dark] .colab-df-convert:hover {\n",
              "      background-color: #434B5C;\n",
              "      box-shadow: 0px 1px 3px 1px rgba(0, 0, 0, 0.15);\n",
              "      filter: drop-shadow(0px 1px 2px rgba(0, 0, 0, 0.3));\n",
              "      fill: #FFFFFF;\n",
              "    }\n",
              "  </style>\n",
              "\n",
              "      <script>\n",
              "        const buttonEl =\n",
              "          document.querySelector('#df-89f6ad22-c130-4e52-8043-56a0f1a086d9 button.colab-df-convert');\n",
              "        buttonEl.style.display =\n",
              "          google.colab.kernel.accessAllowed ? 'block' : 'none';\n",
              "\n",
              "        async function convertToInteractive(key) {\n",
              "          const element = document.querySelector('#df-89f6ad22-c130-4e52-8043-56a0f1a086d9');\n",
              "          const dataTable =\n",
              "            await google.colab.kernel.invokeFunction('convertToInteractive',\n",
              "                                                     [key], {});\n",
              "          if (!dataTable) return;\n",
              "\n",
              "          const docLinkHtml = 'Like what you see? Visit the ' +\n",
              "            '<a target=\"_blank\" href=https://colab.research.google.com/notebooks/data_table.ipynb>data table notebook</a>'\n",
              "            + ' to learn more about interactive tables.';\n",
              "          element.innerHTML = '';\n",
              "          dataTable['output_type'] = 'display_data';\n",
              "          await google.colab.output.renderOutput(dataTable, element);\n",
              "          const docLink = document.createElement('div');\n",
              "          docLink.innerHTML = docLinkHtml;\n",
              "          element.appendChild(docLink);\n",
              "        }\n",
              "      </script>\n",
              "    </div>\n",
              "  </div>\n",
              "  "
            ],
            "text/plain": [
              "                                                     nl  \\\n",
              "0     An X-layered kagami mochi X 1 is a pile of X r...   \n",
              "1     We have a deck consisting of N cards Each card...   \n",
              "2     You are given a string S consisting of lowerca...   \n",
              "3     You are parking at a parking lot You can choos...   \n",
              "4     You have A 500-yen coins B 100-yen coins and C...   \n",
              "...                                                 ...   \n",
              "4995  We have a 33 square grid where each square con...   \n",
              "4996  You went shopping to buy cakes and donuts with...   \n",
              "4997  We call a 4-digit integer with three or more c...   \n",
              "4998  Square1001 has seen an electric bulletin board...   \n",
              "4999  We have a grid with N rows and M columns of sq...   \n",
              "\n",
              "                                                   code  \n",
              "0     # include < id . id > int main ( void ) { int ...  \n",
              "1     # include < id . id > # include < id . id > in...  \n",
              "2     # include < id . id > # include < string . id ...  \n",
              "3     # include < id . id > int main ( ) { int id , ...  \n",
              "4     # include < id . id > # include < string . id ...  \n",
              "...                                                 ...  \n",
              "4995  # include < id . id > int main ( void ) { char...  \n",
              "4996  # include < id . id > int main ( ) { int id ; ...  \n",
              "4997  # include < id . id > char id [ number ] ; int...  \n",
              "4998  # include < id . id > int main ( ) { int id , ...  \n",
              "4999  # include < id . id > # include < id . id > # ...  \n",
              "\n",
              "[5000 rows x 2 columns]"
            ]
          },
          "execution_count": 222,
          "metadata": {},
          "output_type": "execute_result"
        }
      ],
      "source": [
        "test_data = get_data_from_text_files('tokens/test')\n",
        "test_data[test_data.nl!=''].to_csv('/content/drive/MyDrive/CodeNetTest.csv', sep='\\t', encoding='utf-8')"
      ]
    },
    {
      "cell_type": "code",
      "execution_count": null,
      "metadata": {
        "id": "TylX6AEAZ_Y0"
      },
      "outputs": [],
      "source": [
        "X=train_data[train_data.nl!=''].nl.to_numpy()"
      ]
    },
    {
      "cell_type": "code",
      "execution_count": null,
      "metadata": {
        "id": "UcZOIVyrZzS3"
      },
      "outputs": [],
      "source": [
        "X=np.concatenate([train_data[train_data.nl!=''].nl.to_numpy(), test_data[test_data.nl!=''].nl.to_numpy()])\n",
        "y=np.concatenate([train_data[train_data.nl!=''].code.to_numpy(), test_data[test_data.nl!=''].code.to_numpy()])"
      ]
    },
    {
      "cell_type": "code",
      "execution_count": null,
      "metadata": {
        "id": "eA68fWI3a3-L"
      },
      "outputs": [],
      "source": [
        "with open('/content/drive/MyDrive/c_train/x.npy', 'rb') as f:\n",
        "    x = np.load(f)\n",
        "with open('/content/drive/MyDrive/c_train/y.npy', 'rb') as f:\n",
        "    YearEnd = np.load(f)"
      ]
    }
  ],
  "metadata": {
    "colab": {
      "provenance": []
    },
    "kernelspec": {
      "display_name": "rl",
      "language": "python",
      "name": "python3"
    },
    "language_info": {
      "name": "python",
      "version": "3.9.12 (main, Apr  4 2022, 05:22:27) [MSC v.1916 64 bit (AMD64)]"
    },
    "vscode": {
      "interpreter": {
        "hash": "a0da80dbf2df82f8f3e0de14550174593742abde4590e81678f5566545d21889"
      }
    }
  },
  "nbformat": 4,
  "nbformat_minor": 0
}
